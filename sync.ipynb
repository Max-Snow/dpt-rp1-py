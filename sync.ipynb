{
 "cells": [
  {
   "cell_type": "code",
   "execution_count": 1,
   "metadata": {},
   "outputs": [],
   "source": [
    "import os"
   ]
  },
  {
   "cell_type": "code",
   "execution_count": 2,
   "metadata": {},
   "outputs": [],
   "source": [
    "pc_folder=\"~/\\\"my documents/Stanford Courses/CNN\\\"\"\n",
    "dpt_folder=\" \\\"Document/course_notes/CNN/\"\n",
    "\n",
    "os.system(\"dptrp1 --addr 172.20.10.3 --client-id ./deviceid.dat --key ./privatekey.dat new-folder \"+\n",
    "         dpt_folder[:-1]+'\\\"')\n",
    "\n",
    "os.system('ls ' +pc_folder+ ' > name.txt')\n",
    "\n",
    "with open('name.txt','r') as f:\n",
    "    line=f.readline()[:-1]\n",
    "    while line:\n",
    "        os.system(\"dptrp1 --addr 172.20.10.3 --client-id ./deviceid.dat --key ./privatekey.dat upload \"+ \n",
    "                  pc_folder[:-1]+'/'+line+'\\\"'+ \n",
    "                  dpt_folder+line+'\\\"')\n",
    "        line=f.readline()[:-1]"
   ]
  },
  {
   "cell_type": "code",
   "execution_count": 4,
   "metadata": {},
   "outputs": [],
   "source": [
    "sync_folder=\"~/\\\"my documents/dpt_sync\"\n",
    "dpt_folder='Document/course_notes/CNN'\n",
    "\n",
    "os.system(\"dptrp1 --addr 172.20.10.3 --client-id ./deviceid.dat --key ./privatekey.dat list-documents > list.txt\")\n",
    "\n",
    "with open('list.txt','r') as f:\n",
    "    line=f.readline()[:-1]\n",
    "    while line:\n",
    "        if dpt_folder in line:\n",
    "            os.system(\"dptrp1 --addr 172.20.10.3 --client-id ./deviceid.dat --key ./privatekey.dat download \"+\n",
    "                      \"\\\"\"+line+\"\\\" \"+sync_folder+line[8:]+\"\\\"\")\n",
    "        line=f.readline()[:-1]"
   ]
  },
  {
   "cell_type": "code",
   "execution_count": null,
   "metadata": {},
   "outputs": [],
   "source": []
  }
 ],
 "metadata": {
  "kernelspec": {
   "display_name": "Python 3",
   "language": "python",
   "name": "python3"
  },
  "language_info": {
   "codemirror_mode": {
    "name": "ipython",
    "version": 3
   },
   "file_extension": ".py",
   "mimetype": "text/x-python",
   "name": "python",
   "nbconvert_exporter": "python",
   "pygments_lexer": "ipython3",
   "version": "3.7.2+"
  }
 },
 "nbformat": 4,
 "nbformat_minor": 2
}
